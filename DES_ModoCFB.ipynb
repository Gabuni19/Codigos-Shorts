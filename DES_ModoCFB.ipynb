{
  "nbformat": 4,
  "nbformat_minor": 0,
  "metadata": {
    "colab": {
      "provenance": [],
      "authorship_tag": "ABX9TyNHHUYfxWsi8bHmvnKWWuuN",
      "include_colab_link": true
    },
    "kernelspec": {
      "name": "python3",
      "display_name": "Python 3"
    },
    "language_info": {
      "name": "python"
    }
  },
  "cells": [
    {
      "cell_type": "markdown",
      "metadata": {
        "id": "view-in-github",
        "colab_type": "text"
      },
      "source": [
        "<a href=\"https://colab.research.google.com/github/Gabuni19/Codigos-Shorts/blob/main/DES_ModoCFB.ipynb\" target=\"_parent\"><img src=\"https://colab.research.google.com/assets/colab-badge.svg\" alt=\"Open In Colab\"/></a>"
      ]
    },
    {
      "cell_type": "code",
      "source": [
        "pip install pycryptodome"
      ],
      "metadata": {
        "colab": {
          "base_uri": "https://localhost:8080/"
        },
        "id": "ZSaIHapBlQqm",
        "outputId": "eb03bfa3-079c-4448-8d26-b14c69064a2e"
      },
      "execution_count": 2,
      "outputs": [
        {
          "output_type": "stream",
          "name": "stdout",
          "text": [
            "Collecting pycryptodome\n",
            "  Downloading pycryptodome-3.19.0-cp35-abi3-manylinux_2_17_x86_64.manylinux2014_x86_64.whl (2.1 MB)\n",
            "\u001b[2K     \u001b[90m━━━━━━━━━━━━━━━━━━━━━━━━━━━━━━━━━━━━━━━━\u001b[0m \u001b[32m2.1/2.1 MB\u001b[0m \u001b[31m19.1 MB/s\u001b[0m eta \u001b[36m0:00:00\u001b[0m\n",
            "\u001b[?25hInstalling collected packages: pycryptodome\n",
            "Successfully installed pycryptodome-3.19.0\n"
          ]
        }
      ]
    },
    {
      "cell_type": "code",
      "execution_count": 5,
      "metadata": {
        "colab": {
          "base_uri": "https://localhost:8080/"
        },
        "id": "wiyTly-2k_ls",
        "outputId": "bf03f51e-4ad0-4e48-d15e-8ac0935b83ae"
      },
      "outputs": [
        {
          "output_type": "stream",
          "name": "stdout",
          "text": [
            "Archivo cifrado y guardado como: archivo_encrypted.pptx\n",
            "Archivo descifrado y guardado como: archivo_decrypted.pptx\n"
          ]
        }
      ],
      "source": [
        "from Crypto.Cipher import DES\n",
        "from Crypto.Random import get_random_bytes\n",
        "\n",
        "def des_cfb_encrypt(key, input_file, output_file):\n",
        "    iv = get_random_bytes(8)\n",
        "    cipher = DES.new(key, DES.MODE_CFB, iv=iv)\n",
        "\n",
        "    with open(input_file, 'rb') as file_in:\n",
        "        with open(output_file, 'wb') as file_out:\n",
        "            file_out.write(iv)  # Escribir el IV al principio del archivo cifrado\n",
        "\n",
        "            while True:\n",
        "                chunk = file_in.read(8)\n",
        "                if len(chunk) == 0:\n",
        "                    break\n",
        "                elif len(chunk) % 8 != 0:\n",
        "                    chunk += b' ' * (8 - len(chunk) % 8)  # Rellenar el último bloque si es necesario\n",
        "                encrypted_chunk = cipher.encrypt(chunk)\n",
        "                file_out.write(encrypted_chunk)\n",
        "\n",
        "def des_cfb_decrypt(key, input_file, output_file):\n",
        "    with open(input_file, 'rb') as file_in:\n",
        "        iv = file_in.read(8)  # Leer el IV del archivo cifrado\n",
        "        cipher = DES.new(key, DES.MODE_CFB, iv=iv)\n",
        "\n",
        "        with open(output_file, 'wb') as file_out:\n",
        "            while True:\n",
        "                chunk = file_in.read(8)\n",
        "                if len(chunk) == 0:\n",
        "                    break\n",
        "                decrypted_chunk = cipher.decrypt(chunk)\n",
        "                file_out.write(decrypted_chunk)\n",
        "\n",
        "def main():\n",
        "    key = get_random_bytes(8)\n",
        "    input_pptx = '09.pptx'\n",
        "    encrypted_pptx = 'archivo_encrypted.pptx'\n",
        "    decrypted_pptx = 'archivo_decrypted.pptx'\n",
        "\n",
        "    # Cifrado\n",
        "    des_cfb_encrypt(key, input_pptx, encrypted_pptx)\n",
        "    print(\"Archivo cifrado y guardado como:\", encrypted_pptx)\n",
        "\n",
        "    # Descifrado\n",
        "    des_cfb_decrypt(key, encrypted_pptx, decrypted_pptx)\n",
        "    print(\"Archivo descifrado y guardado como:\", decrypted_pptx)\n",
        "\n",
        "if __name__ == \"__main__\":\n",
        "    main()\n",
        "\n"
      ]
    },
    {
      "cell_type": "markdown",
      "source": [
        "## Pruebas de la generacion del archivo encriptado y desencriptado"
      ],
      "metadata": {
        "id": "YuFtRkvvmXDZ"
      }
    },
    {
      "cell_type": "markdown",
      "source": [
        "![image.png](data:image/png;base64,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)"
      ],
      "metadata": {
        "id": "dBn8RHDumP1W"
      }
    },
    {
      "cell_type": "markdown",
      "source": [
        "![image.png](data:image/png;base64,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)"
      ],
      "metadata": {
        "id": "Zb0DgRtKmVfY"
      }
    },
    {
      "cell_type": "code",
      "source": [],
      "metadata": {
        "id": "3lWgSkQDmQaE"
      },
      "execution_count": null,
      "outputs": []
    }
  ]
}